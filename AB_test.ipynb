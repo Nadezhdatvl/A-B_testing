{
 "cells": [
  {
   "cell_type": "code",
   "execution_count": 3,
   "id": "7ff30ec0-e8f1-4b4c-97de-1a5625b47cc7",
   "metadata": {},
   "outputs": [],
   "source": [
    "import pandas as pd\n",
    "import pandahouse as ph\n",
    "import scipy.stats as stats\n",
    "from scipy.stats import ttest_ind\n",
    "import seaborn as sns\n",
    "import numpy as np\n",
    "import hashlib\n",
    "import matplotlib.pyplot as plt"
   ]
  },
  {
   "cell_type": "code",
   "execution_count": 4,
   "id": "c2554d8d-d4f9-4263-bee2-3b1f8a439779",
   "metadata": {},
   "outputs": [
    {
     "data": {
      "text/html": [
       "<div>\n",
       "<style scoped>\n",
       "    .dataframe tbody tr th:only-of-type {\n",
       "        vertical-align: middle;\n",
       "    }\n",
       "\n",
       "    .dataframe tbody tr th {\n",
       "        vertical-align: top;\n",
       "    }\n",
       "\n",
       "    .dataframe thead th {\n",
       "        text-align: right;\n",
       "    }\n",
       "</style>\n",
       "<table border=\"1\" class=\"dataframe\">\n",
       "  <thead>\n",
       "    <tr style=\"text-align: right;\">\n",
       "      <th></th>\n",
       "      <th>user_id</th>\n",
       "      <th>likes</th>\n",
       "      <th>views</th>\n",
       "      <th>ctr</th>\n",
       "    </tr>\n",
       "    <tr>\n",
       "      <th>exp_group</th>\n",
       "      <th></th>\n",
       "      <th></th>\n",
       "      <th></th>\n",
       "      <th></th>\n",
       "    </tr>\n",
       "  </thead>\n",
       "  <tbody>\n",
       "    <tr>\n",
       "      <th>1</th>\n",
       "      <td>10079</td>\n",
       "      <td>10079</td>\n",
       "      <td>10079</td>\n",
       "      <td>10079</td>\n",
       "    </tr>\n",
       "    <tr>\n",
       "      <th>2</th>\n",
       "      <td>9952</td>\n",
       "      <td>9952</td>\n",
       "      <td>9952</td>\n",
       "      <td>9952</td>\n",
       "    </tr>\n",
       "  </tbody>\n",
       "</table>\n",
       "</div>"
      ],
      "text/plain": [
       "           user_id  likes  views    ctr\n",
       "exp_group                              \n",
       "1            10079  10079  10079  10079\n",
       "2             9952   9952   9952   9952"
      ]
     },
     "execution_count": 4,
     "metadata": {},
     "output_type": "execute_result"
    }
   ],
   "source": [
    "connection = {'host': 'https://clickhouse.lab.karpov.courses',\n",
    "                      'database':'simulator_20230220',\n",
    "                      'user':'student', \n",
    "                      'password':'dpo_python_2020'\n",
    "                     }\n",
    "\n",
    "q = \"\"\"\n",
    "SELECT exp_group, \n",
    "    user_id,\n",
    "    sum(action = 'like') as likes,\n",
    "    sum(action = 'view') as views,\n",
    "    likes/views as ctr\n",
    "FROM {db}.feed_actions \n",
    "WHERE toDate(time) between '2023-01-31' and '2023-02-06'\n",
    "    and exp_group in (1,2)\n",
    "GROUP BY exp_group, user_id\n",
    "\"\"\"\n",
    "\n",
    "df = ph.read_clickhouse(q, connection=connection)\n",
    "\n",
    "df.groupby('exp_group').count()\n"
   ]
  },
  {
   "cell_type": "code",
   "execution_count": 1,
   "id": "a67f4cc5-c93c-4744-946b-b7ae680bd67f",
   "metadata": {},
   "outputs": [],
   "source": [
    "# Группы разбиты примерно одинаково, это хорошо."
   ]
  },
  {
   "cell_type": "code",
   "execution_count": 4,
   "id": "f76e670f-a635-4907-b4e8-19e3c5cd3dfd",
   "metadata": {},
   "outputs": [
    {
     "data": {
      "text/plain": [
       "Ttest_indResult(statistic=0.7094392041270485, pvalue=0.4780623130874935)"
      ]
     },
     "execution_count": 4,
     "metadata": {},
     "output_type": "execute_result"
    }
   ],
   "source": [
    "# T-test\n",
    "stats.ttest_ind(df[df.exp_group == 1].ctr,\n",
    "                df[df.exp_group == 2].ctr,\n",
    "                equal_var=False)"
   ]
  },
  {
   "cell_type": "code",
   "execution_count": null,
   "id": "16b6d717-d994-48f8-892d-6ce402944573",
   "metadata": {},
   "outputs": [],
   "source": [
    "# Вроде средние CTR равны, мы не отвергаем Н0"
   ]
  },
  {
   "cell_type": "code",
   "execution_count": 7,
   "id": "8113f036-571f-4dd4-aea3-3624741df24b",
   "metadata": {},
   "outputs": [
    {
     "data": {
      "image/png": "[encoded data removed]",
      "text/plain": [
       "<Figure size 432x288 with 1 Axes>"
      ]
     },
     "metadata": {
      "needs_background": "light"
     },
     "output_type": "display_data"
    }
   ],
   "source": [
    "groups = sns.histplot(data = df, \n",
    "              x='ctr', \n",
    "              hue='exp_group', \n",
    "              palette = ['r', 'b'],\n",
    "              alpha=0.5,\n",
    "              kde=False)"
   ]
  },
  {
   "cell_type": "code",
   "execution_count": null,
   "id": "82fa974e-132a-4259-acfe-2fb7da1e5f7b",
   "metadata": {},
   "outputs": [],
   "source": [
    "# Различия в распределениях CTR очевидны, группа 2 имеет 2 вершины, и опираться на Т-тест \n",
    "# в этом случае не верно. Посмотрим что нам покажет тест Манна-Уитни."
   ]
  },
  {
   "cell_type": "code",
   "execution_count": 7,
   "id": "7ba83e24-f6d7-442f-aecc-46d82a84db3f",
   "metadata": {},
   "outputs": [
    {
     "name": "stdout",
     "output_type": "stream",
     "text": [
      "MannwhitneyuResult(statistic=56601260.5, pvalue=6.0376484617779035e-56)\n",
      "В 55.37 % случаев A > B. Должно получиться около 50%\n"
     ]
    }
   ],
   "source": [
    "print(stats.mannwhitneyu(df[df.exp_group == 1].ctr,\n",
    "                         df[df.exp_group == 2].ctr,\n",
    "                         alternative = 'two-sided'))\n",
    "\n",
    "A_gt_B = 0\n",
    "for _ in range(10000):\n",
    "    A_gt_B+= df[df.exp_group == 1].ctr.sample().values[0] > df[df.exp_group == 2].ctr.sample().values[0]\n",
    "    \n",
    "print('В', A_gt_B/100, '% случаев A > B. Должно получиться около 50%')"
   ]
  },
  {
   "cell_type": "code",
   "execution_count": null,
   "id": "908a9122-416e-432c-a2c9-5f1f7f5d9065",
   "metadata": {},
   "outputs": [],
   "source": [
    "# Тест показывает значимые различия CTR между группами, отвергаем Н0.\n",
    "\n",
    "# Надо проверить на сглаженносм CTR. Общегрупповой CTR поможет уровнять просмотры и лайки."
   ]
  },
  {
   "cell_type": "code",
   "execution_count": 10,
   "id": "9d189924-3399-4229-97d5-ba08bf660490",
   "metadata": {},
   "outputs": [],
   "source": [
    "# функция для сглаженного CTR\n",
    "def get_smothed_ctr(user_likes, user_views, global_ctr, alpha):\n",
    "    smothed_ctr = (user_likes + alpha * global_ctr) / (user_views + alpha)\n",
    "    return smothed_ctr\n"
   ]
  },
  {
   "cell_type": "code",
   "execution_count": 9,
   "id": "8056aaca-6efb-4b8f-b2da-b032b7fd0d24",
   "metadata": {},
   "outputs": [],
   "source": [
    "# Общегрупповой CTR\n",
    "global_ctr_1 = df[df.exp_group == 1].likes.sum()/df[df.exp_group == 1].views.sum()\n",
    "global_ctr_2 = df[df.exp_group == 2].likes.sum()/df[df.exp_group == 2].views.sum()\n"
   ]
  },
  {
   "cell_type": "code",
   "execution_count": 15,
   "id": "04ddc2a6-1b53-4cce-9891-b5deefcb72e0",
   "metadata": {},
   "outputs": [
    {
     "data": {
      "text/plain": [
       "<AxesSubplot:xlabel='ctr'>"
      ]
     },
     "execution_count": 15,
     "metadata": {},
     "output_type": "execute_result"
    },
    {
     "data": {
      "image/png": "[encoded data removed]",
      "text/plain": [
       "<Figure size 432x288 with 1 Axes>"
      ]
     },
     "metadata": {
      "needs_background": "light"
     },
     "output_type": "display_data"
    }
   ],
   "source": [
    "# Посмотрим на CTR группы 1\n",
    "group1 = df[df.exp_group == 1].copy()\n",
    "\n",
    "sns.distplot(group1.ctr, \n",
    "             kde = False)"
   ]
  },
  {
   "cell_type": "code",
   "execution_count": null,
   "id": "48cd4f30-32f6-4fdf-a004-fc80474a7fda",
   "metadata": {},
   "outputs": [],
   "source": [
    "# Есть выбросы как со стороны 0, так и больших значений"
   ]
  },
  {
   "cell_type": "code",
   "execution_count": 16,
   "id": "74567c80-a3e1-4f63-a6c9-0a678ffbb273",
   "metadata": {},
   "outputs": [
    {
     "data": {
      "text/plain": [
       "<AxesSubplot:xlabel='smothed_ctr'>"
      ]
     },
     "execution_count": 16,
     "metadata": {},
     "output_type": "execute_result"
    },
    {
     "data": {
      "image/png": "[encoded data removed]",
      "text/plain": [
       "<Figure size 432x288 with 1 Axes>"
      ]
     },
     "metadata": {
      "needs_background": "light"
     },
     "output_type": "display_data"
    }
   ],
   "source": [
    "# Примим альфу = 5 и посчитаем сглаженный CTR для группы 1\n",
    "group1['smothed_ctr'] = df.apply(\n",
    "    lambda x: get_smothed_ctr(x['likes'], x['views'], global_ctr_1, 5), axis=1)\n",
    "\n",
    "sns.distplot(group1.smothed_ctr, \n",
    "             kde = False)"
   ]
  },
  {
   "cell_type": "code",
   "execution_count": null,
   "id": "3fa8c617-8af7-423b-b22b-b43c813c235f",
   "metadata": {},
   "outputs": [],
   "source": [
    "# Видно, что крайние значения немного сгладились"
   ]
  },
  {
   "cell_type": "code",
   "execution_count": 17,
   "id": "35857c9a-576a-477b-90cf-5d66c7139c52",
   "metadata": {},
   "outputs": [
    {
     "data": {
      "text/plain": [
       "<AxesSubplot:xlabel='ctr'>"
      ]
     },
     "execution_count": 17,
     "metadata": {},
     "output_type": "execute_result"
    },
    {
     "data": {
      "image/png": "[encoded data removed]",
      "text/plain": [
       "<Figure size 432x288 with 1 Axes>"
      ]
     },
     "metadata": {
      "needs_background": "light"
     },
     "output_type": "display_data"
    }
   ],
   "source": [
    "# Посмотрим на CTR группы 2\n",
    "group2 = df[df.exp_group == 2].copy()\n",
    "\n",
    "sns.distplot(group2.ctr, \n",
    "             kde = False)"
   ]
  },
  {
   "cell_type": "code",
   "execution_count": 18,
   "id": "c5735a3b-2826-456f-90ad-04010172d673",
   "metadata": {},
   "outputs": [
    {
     "data": {
      "text/plain": [
       "<AxesSubplot:xlabel='smothed_ctr'>"
      ]
     },
     "execution_count": 18,
     "metadata": {},
     "output_type": "execute_result"
    },
    {
     "data": {
      "image/png": "[encoded data removed]",
      "text/plain": [
       "<Figure size 432x288 with 1 Axes>"
      ]
     },
     "metadata": {
      "needs_background": "light"
     },
     "output_type": "display_data"
    }
   ],
   "source": [
    "# Примим альфу = 5 и посчитаем сглаженный CTR для группы 2\n",
    "group2['smothed_ctr'] = df.apply(\n",
    "    lambda x: get_smothed_ctr(x['likes'], x['views'], global_ctr_2, 5), axis=1)\n",
    "\n",
    "sns.distplot(group2.smothed_ctr, \n",
    "             kde = False)"
   ]
  },
  {
   "cell_type": "code",
   "execution_count": 25,
   "id": "c04ba567-f552-4cc8-8e86-f3bde49f0faf",
   "metadata": {},
   "outputs": [
    {
     "name": "stderr",
     "output_type": "stream",
     "text": [
      "/nfs/env/lib/python3.8/site-packages/seaborn/distributions.py:2557: FutureWarning: `distplot` is a deprecated function and will be removed in a future version. Please adapt your code to use either `displot` (a figure-level function with similar flexibility) or `histplot` (an axes-level function for histograms).\n",
      "  warnings.warn(msg, FutureWarning)\n",
      "/nfs/env/lib/python3.8/site-packages/seaborn/distributions.py:2557: FutureWarning: `distplot` is a deprecated function and will be removed in a future version. Please adapt your code to use either `displot` (a figure-level function with similar flexibility) or `histplot` (an axes-level function for histograms).\n",
      "  warnings.warn(msg, FutureWarning)\n"
     ]
    },
    {
     "data": {
      "text/plain": [
       "<AxesSubplot:xlabel='smothed_ctr', ylabel='Density'>"
      ]
     },
     "execution_count": 25,
     "metadata": {},
     "output_type": "execute_result"
    },
    {
     "data": {
      "image/png": "[encoded data removed]",
      "text/plain": [
       "<Figure size 432x288 with 1 Axes>"
      ]
     },
     "metadata": {
      "needs_background": "light"
     },
     "output_type": "display_data"
    }
   ],
   "source": [
    "sns.distplot(group1.smothed_ctr) # голубая\n",
    "sns.distplot(group2.smothed_ctr)"
   ]
  },
  {
   "cell_type": "code",
   "execution_count": 26,
   "id": "ecea63fe-b08f-4bfc-8925-c3b9d0b2ea0a",
   "metadata": {},
   "outputs": [
    {
     "data": {
      "text/plain": [
       "Ttest_indResult(statistic=2.2841320431616983, pvalue=0.0223769815558559)"
      ]
     },
     "execution_count": 26,
     "metadata": {},
     "output_type": "execute_result"
    }
   ],
   "source": [
    "# T-test\n",
    "stats.ttest_ind(group1.smothed_ctr,\n",
    "                group2.smothed_ctr,\n",
    "                equal_var=False)"
   ]
  },
  {
   "cell_type": "code",
   "execution_count": null,
   "id": "e9f436f0-4719-4569-9970-e97d6251ff9a",
   "metadata": {},
   "outputs": [],
   "source": [
    "# T-тест < 0,05, отвергаем H0. Но доверять этому нельзя, т.к. наше рапредеделение средних \n",
    "# CTR во 2й группе сильно скошено"
   ]
  },
  {
   "cell_type": "code",
   "execution_count": 19,
   "id": "744a6909-1d48-4201-a23d-6eabd6f9c5e0",
   "metadata": {},
   "outputs": [
    {
     "data": {
      "text/plain": [
       "MannwhitneyuResult(statistic=56925125.0, pvalue=1.6163964114270227e-61)"
      ]
     },
     "execution_count": 19,
     "metadata": {},
     "output_type": "execute_result"
    }
   ],
   "source": [
    "# Проведем тест Манна-Уитни\n",
    "stats.mannwhitneyu(group1.smothed_ctr, \n",
    "                   group2.smothed_ctr,\n",
    "                   alternative = 'two-sided')"
   ]
  },
  {
   "cell_type": "code",
   "execution_count": null,
   "id": "59651c37-f4b0-4ec9-858f-fdf56057987d",
   "metadata": {},
   "outputs": [],
   "source": [
    "#По прежнему группы имеют отличия.Отвергаем Н0."
   ]
  },
  {
   "cell_type": "code",
   "execution_count": null,
   "id": "d3f46591-d770-47bc-a984-96762f90e1fb",
   "metadata": {},
   "outputs": [],
   "source": [
    "#Посмотрим что нам покажет Бутстреп."
   ]
  },
  {
   "cell_type": "code",
   "execution_count": 3,
   "id": "6df5650e-c6d1-4a61-8963-665292256340",
   "metadata": {},
   "outputs": [],
   "source": [
    "def bootstrap(likes1, views1, likes2, views2, n_bootstrap=2000):\n",
    "\n",
    "    poisson_bootstraps1 = stats.poisson(1).rvs(\n",
    "        (n_bootstrap, len(likes1))).astype(np.int64)\n",
    "\n",
    "    poisson_bootstraps2 = stats.poisson(1).rvs(\n",
    "            (n_bootstrap, len(likes2))).astype(np.int64)\n",
    "    \n",
    "    globalCTR1 = (poisson_bootstraps1*likes1).sum(axis=1)/(poisson_bootstraps1*views1).sum(axis=1)\n",
    "    \n",
    "    globalCTR2 = (poisson_bootstraps2*likes2).sum(axis=1)/(poisson_bootstraps2*views2).sum(axis=1)\n",
    "\n",
    "    return globalCTR1, globalCTR2\n"
   ]
  },
  {
   "cell_type": "code",
   "execution_count": 4,
   "id": "e65881ca-fbe1-4d59-b47c-3f46ca7223e7",
   "metadata": {},
   "outputs": [],
   "source": [
    "likes1 = df[df.exp_group == 1].likes.to_numpy()\n",
    "views1 = df[df.exp_group == 1].views.to_numpy()\n",
    "likes2 = df[df.exp_group == 2].likes.to_numpy()\n",
    "views2 = df[df.exp_group == 2].views.to_numpy()"
   ]
  },
  {
   "cell_type": "code",
   "execution_count": 5,
   "id": "61fe8c9b-fce3-4699-8f44-8f86dca42c46",
   "metadata": {},
   "outputs": [],
   "source": [
    "ctr1, ctr2 = bootstrap(likes1, views1, likes2, views2)\n"
   ]
  },
  {
   "cell_type": "code",
   "execution_count": 6,
   "id": "b6062d25-81a9-46dc-8360-13a139935a4d",
   "metadata": {},
   "outputs": [
    {
     "data": {
      "text/plain": [
       "<AxesSubplot:ylabel='Count'>"
      ]
     },
     "execution_count": 6,
     "metadata": {},
     "output_type": "execute_result"
    },
    {
     "data": {
      "image/png": "[encoded data removed]",
      "text/plain": [
       "<Figure size 432x288 with 1 Axes>"
      ]
     },
     "metadata": {
      "needs_background": "light"
     },
     "output_type": "display_data"
    }
   ],
   "source": [
    "sns.histplot(ctr1, color='y')\n",
    "sns.histplot(ctr2, color='g')"
   ]
  },
  {
   "cell_type": "code",
   "execution_count": 10,
   "id": "0b62e897-c74d-447f-bb86-9e2b64318c09",
   "metadata": {},
   "outputs": [],
   "source": [
    "# Средние значения у группы 1 выше и более точечные.\n",
    "# При такой разнице наше p-value группового CTR будет равно 0, т.к. наши данные не пересекаются."
   ]
  },
  {
   "cell_type": "code",
   "execution_count": 8,
   "id": "9e7233bf-548a-4e80-a271-20d704b43fd0",
   "metadata": {},
   "outputs": [
    {
     "data": {
      "text/plain": [
       "<AxesSubplot:ylabel='Count'>"
      ]
     },
     "execution_count": 8,
     "metadata": {},
     "output_type": "execute_result"
    },
    {
     "data": {
      "image/png": "[encoded data removed]",
      "text/plain": [
       "<Figure size 432x288 with 1 Axes>"
      ]
     },
     "metadata": {
      "needs_background": "light"
     },
     "output_type": "display_data"
    }
   ],
   "source": [
    "#Посмотрим на разница между глобальными CTR.\n",
    "sns.histplot(ctr2 - ctr1)"
   ]
  },
  {
   "cell_type": "code",
   "execution_count": null,
   "id": "2836a0c7-3955-4a82-9db3-751a3b2d8d69",
   "metadata": {},
   "outputs": [],
   "source": [
    "# Что и требовалось доказать, глобальный CTR в одной группе строго больше чем в другой, \n",
    "# значение не пересекают значение 0. \n",
    "# Группа 1 (контрольня) показала лучшие значения, чем группа 2 (тестовая). "
   ]
  },
  {
   "cell_type": "code",
   "execution_count": null,
   "id": "b766b68c-db49-4419-83e9-c9e44bfcb7cd",
   "metadata": {},
   "outputs": [],
   "source": [
    "# Проверим данные с помощью побакетного преобразования"
   ]
  },
  {
   "cell_type": "code",
   "execution_count": 15,
   "id": "c428f58e-0f44-4322-ab1f-0a16e3067ef7",
   "metadata": {},
   "outputs": [],
   "source": [
    "q = \"\"\"\n",
    "\n",
    "SELECT exp_group, bucket,\n",
    "    sum(likes)/sum(views) as bucket_ctr,\n",
    "    quantileExact(0.9)(ctr) as ctr9\n",
    "FROM (SELECT exp_group, \n",
    "        xxHash64(user_id)%50 as bucket,\n",
    "        user_id,\n",
    "        sum(action = 'like') as likes,\n",
    "        sum(action = 'view') as views,\n",
    "        likes/views as ctr\n",
    "    FROM {db}.feed_actions \n",
    "    WHERE toDate(time) between '2023-01-31' and '2023-02-06'\n",
    "        and exp_group in (1,2)\n",
    "    GROUP BY exp_group, bucket, user_id)\n",
    "GROUP BY exp_group, bucket\n",
    "\"\"\"\n",
    "\n",
    "df = ph.read_clickhouse(q, connection=connection)\n"
   ]
  },
  {
   "cell_type": "code",
   "execution_count": 16,
   "id": "2b7e8dce-f7a9-49da-ae7a-e559b74f98e9",
   "metadata": {},
   "outputs": [
    {
     "data": {
      "text/plain": [
       "MannwhitneyuResult(statistic=1995.0, pvalue=2.859963936492646e-07)"
      ]
     },
     "execution_count": 16,
     "metadata": {},
     "output_type": "execute_result"
    }
   ],
   "source": [
    "# Посмотрим средний побакетный CTR по тесту Манна-Уитни, \n",
    "# учитывая что у нас нет нормальности в распределениях\n",
    "stats.mannwhitneyu(df[df.exp_group == 1].bucket_ctr, \n",
    "                   df[df.exp_group == 2].bucket_ctr, \n",
    "                   alternative = 'two-sided')"
   ]
  },
  {
   "cell_type": "code",
   "execution_count": 29,
   "id": "5a1bfb11-4e8e-47c4-9a85-799f86072a9d",
   "metadata": {},
   "outputs": [
    {
     "data": {
      "text/plain": [
       "Ttest_indResult(statistic=5.668234732053979, pvalue=3.4455951649945907e-07)"
      ]
     },
     "execution_count": 29,
     "metadata": {},
     "output_type": "execute_result"
    }
   ],
   "source": [
    "# Но на всякий случай посмотрим на Т-тест\n",
    "stats.ttest_ind(df[df.exp_group == 1].bucket_ctr,\n",
    "                df[df.exp_group == 2].bucket_ctr,\n",
    "                equal_var=False)"
   ]
  },
  {
   "cell_type": "code",
   "execution_count": 27,
   "id": "627c2e9e-1db0-4229-98e0-fdcd32c961b9",
   "metadata": {},
   "outputs": [],
   "source": [
    "# Тесты показали значимые различия наших групп. Отвергаем H0."
   ]
  },
  {
   "cell_type": "code",
   "execution_count": 18,
   "id": "df84403d-9029-43d5-b915-12e0702c1ae9",
   "metadata": {},
   "outputs": [
    {
     "data": {
      "text/plain": [
       "<AxesSubplot:xlabel='bucket_ctr', ylabel='Count'>"
      ]
     },
     "execution_count": 18,
     "metadata": {},
     "output_type": "execute_result"
    },
    {
     "data": {
      "image/png": "[encoded data removed]",
      "text/plain": [
       "<Figure size 432x288 with 1 Axes>"
      ]
     },
     "metadata": {
      "needs_background": "light"
     },
     "output_type": "display_data"
    }
   ],
   "source": [
    "# Посмотрим на бакетное распределение CTR группы 1\n",
    "sns.histplot(df[df.exp_group == 1].bucket_ctr)"
   ]
  },
  {
   "cell_type": "code",
   "execution_count": null,
   "id": "1844e4de-bc3a-4734-93d1-ed0b56e79ec6",
   "metadata": {},
   "outputs": [],
   "source": [
    "# Есть что-то похожее на нормальное распределение, но это не точно"
   ]
  },
  {
   "cell_type": "code",
   "execution_count": 19,
   "id": "f0ead65b-dc6e-4384-94fe-dbd52f902d3c",
   "metadata": {},
   "outputs": [
    {
     "data": {
      "text/plain": [
       "<AxesSubplot:xlabel='bucket_ctr', ylabel='Count'>"
      ]
     },
     "execution_count": 19,
     "metadata": {},
     "output_type": "execute_result"
    },
    {
     "data": {
      "image/png": "[encoded data removed]",
      "text/plain": [
       "<Figure size 432x288 with 1 Axes>"
      ]
     },
     "metadata": {
      "needs_background": "light"
     },
     "output_type": "display_data"
    }
   ],
   "source": [
    "# Бакетное распределение CTR группы 2\n",
    "sns.histplot(df[df.exp_group == 2].bucket_ctr)"
   ]
  },
  {
   "cell_type": "code",
   "execution_count": null,
   "id": "9ddfbf8a-fa2c-4821-8a8f-79a2e36d11f2",
   "metadata": {},
   "outputs": [],
   "source": [
    "# Не очень похоже на нормальное"
   ]
  },
  {
   "cell_type": "code",
   "execution_count": 25,
   "id": "2cf97ad8-c90a-48b9-98b3-e43de8583040",
   "metadata": {},
   "outputs": [
    {
     "data": {
      "text/plain": [
       "<AxesSubplot:xlabel='ctr9', ylabel='Count'>"
      ]
     },
     "execution_count": 25,
     "metadata": {},
     "output_type": "execute_result"
    },
    {
     "data": {
      "image/png": "[encoded data removed]",
      "text/plain": [
       "<Figure size 432x288 with 1 Axes>"
      ]
     },
     "metadata": {
      "needs_background": "light"
     },
     "output_type": "display_data"
    }
   ],
   "source": [
    "# Посмотрим на бакетное распределение 90% квантиля \n",
    "sns.histplot(df[df.exp_group == 1].ctr9, color='y')\n",
    "sns.histplot(df[df.exp_group == 2].ctr9)"
   ]
  },
  {
   "cell_type": "code",
   "execution_count": 30,
   "id": "2b58c987-9468-4acd-b8ed-1a92a0480720",
   "metadata": {},
   "outputs": [
    {
     "data": {
      "text/plain": [
       "MannwhitneyuResult(statistic=0.0, pvalue=6.344839189967265e-18)"
      ]
     },
     "execution_count": 30,
     "metadata": {},
     "output_type": "execute_result"
    }
   ],
   "source": [
    "# Проверим бакетное распределение 90% квантиля на тесте Манна-Уитни\n",
    "stats.mannwhitneyu(df[df.exp_group == 1].ctr9, \n",
    "                   df[df.exp_group == 2].ctr9, \n",
    "                   alternative = 'two-sided')"
   ]
  },
  {
   "cell_type": "code",
   "execution_count": null,
   "id": "adc944da-472a-41f5-83b9-7870c6d78ab9",
   "metadata": {},
   "outputs": [],
   "source": [
    "# Мы видим, что группы совершенно разные. Отвергаем Н0."
   ]
  },
  {
   "cell_type": "code",
   "execution_count": null,
   "id": "c20e3b63-288f-4942-899a-f51af2c266d0",
   "metadata": {},
   "outputs": [],
   "source": [
    "Подведем итоги нашего анализа.\n",
    "\n",
    "В эксперименте участвовали 1 и 2 группы. Группа 1 была контрольная, на группе 2 тестировали новый\n",
    "алгоритм рекомендаций постов. Период эксперимента неделя с 2023-01-31 по 2023-02-06.\n",
    "\n",
    "Основная гипотеза заключается в том, что новый алгоритм во 2-й группе приведет к увеличению CTR.\n",
    "\n",
    "По итогам тестирования, можно сказать, что новые алгоритмы не работают на увеличение CTR. \n",
    "Возможно не качественно был проведен АА тест, группы совершенно разные. Или алгоритмы были слишком \n",
    "агрессивные (не удобными) и пользователи потеряли интерес.\n",
    "\n",
    "Визуально распределение значений тестовой группы не похожи на нормальные и опираться на T-testa я \n",
    "бы не рекомндовала. Тест Манна-Уитни тоже показывал, что наши группы отличаются. В оценки нашего \n",
    "эксперимента должен отлично подойти Пуассоновский бутстреп для подсчета разницы в CTR. Мы провели \n",
    "псевдовыборку 2000 раз,и наши группы даже не пересеклись, а глобавльные CTR контрольной группы \n",
    "увеличился. Проведя бакетное преобразованиемы убедились, что значения CTR тестовой группы меньше \n",
    "контрольной.\n",
    "\n",
    "Рекомендую не раскатывать новый алгоритм."
   ]
  }
 ],
 "metadata": {
  "kernelspec": {
   "display_name": "Python 3 (ipykernel)",
   "language": "python",
   "name": "python3"
  },
  "language_info": {
   "codemirror_mode": {
    "name": "ipython",
    "version": 3
   },
   "file_extension": ".py",
   "mimetype": "text/x-python",
   "name": "python",
   "nbconvert_exporter": "python",
   "pygments_lexer": "ipython3",
   "version": "3.8.10"
  }
 },
 "nbformat": 4,
 "nbformat_minor": 5
}
